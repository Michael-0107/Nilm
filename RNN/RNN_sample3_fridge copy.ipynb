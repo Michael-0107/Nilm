{
 "cells": [
  {
   "cell_type": "code",
   "execution_count": 54,
   "metadata": {},
   "outputs": [],
   "source": [
    "import pandas as pd\n",
    "import nilmtk\n",
    "import matplotlib.pyplot as plt\n",
    "import random\n",
    "import sys\n",
    "from matplotlib import rcParams\n",
    "import matplotlib.pyplot as plt\n",
    "import numpy as np\n",
    "import h5py\n",
    "from nilmtk import DataSet\n",
    "from nilmtk.utils import print_dict\n",
    "from nilmtk.datastore import HDFDataStore\n",
    "from matplotlib import rcParams\n",
    "from nilmtk.utils import find_nearest\n",
    "from nilmtk.feature_detectors import cluster\n",
    "from nilmtk.legacy.disaggregate import Disaggregator\n",
    "from nilmtk.datastore import HDFDataStore\n",
    "import tensorflow as tf\n",
    "from tensorflow import keras\n",
    "from keras.utils import plot_model"
   ]
  },
  {
   "cell_type": "code",
   "execution_count": 59,
   "metadata": {},
   "outputs": [],
   "source": [
    "test = DataSet('E:\\\\github\\\\Nilm\\\\redd_low.h5')\n",
    "test.set_window(start=\"30-4-2011\")\n",
    "test_elec = test.buildings[1].elec\n",
    "test_mains = test_elec.mains().all_meters()[0]"
   ]
  },
  {
   "cell_type": "code",
   "execution_count": 61,
   "metadata": {},
   "outputs": [],
   "source": [
    "test_mains = test_elec.submeters()"
   ]
  },
  {
   "cell_type": "code",
   "execution_count": 63,
   "metadata": {},
   "outputs": [
    {
     "data": {
      "text/plain": [
       "<generator object Electric.load_series at 0x0000021285BEB5F0>"
      ]
     },
     "execution_count": 63,
     "metadata": {},
     "output_type": "execute_result"
    }
   ],
   "source": [
    "test_mains.power_series()"
   ]
  },
  {
   "cell_type": "code",
   "execution_count": 58,
   "metadata": {},
   "outputs": [
    {
     "name": "stdout",
     "output_type": "stream",
     "text": [
      "Loading data for meter ElecMeterID(instance=4, building=1, dataset='REDD')      dataset='REDD'), ElecMeterID(instance=4, building=1, dataset='REDD')))     \n",
      "Done loading data all meters for this chunk.\n",
      "Loading data for meter ElecMeterID(instance=20, building=1, dataset='REDD')      dataset='REDD'), ElecMeterID(instance=20, building=1, dataset='REDD')))     \n",
      "Done loading data all meters for this chunk.\n",
      "\n",
      "Done loading data all meters for this chunk.\n"
     ]
    }
   ],
   "source": [
    "A = next(test_mains)"
   ]
  },
  {
   "cell_type": "code",
   "execution_count": 50,
   "metadata": {},
   "outputs": [
    {
     "data": {
      "text/plain": [
       "2011-04-30 00:00:00-04:00    1277.0\n",
       "2011-04-30 00:00:03-04:00    1279.0\n",
       "2011-04-30 00:00:06-04:00    1279.0\n",
       "2011-04-30 00:00:09-04:00    1274.0\n",
       "2011-04-30 00:00:12-04:00    1272.0\n",
       "                              ...  \n",
       "2011-05-24 15:56:21-04:00     240.0\n",
       "2011-05-24 15:56:24-04:00     240.0\n",
       "2011-05-24 15:56:27-04:00     243.0\n",
       "2011-05-24 15:56:30-04:00     242.0\n",
       "2011-05-24 15:56:33-04:00       NaN\n",
       "Freq: 3S, Name: (power, active), Length: 710332, dtype: float32"
      ]
     },
     "execution_count": 50,
     "metadata": {},
     "output_type": "execute_result"
    }
   ],
   "source": [
    "A"
   ]
  },
  {
   "cell_type": "code",
   "execution_count": 51,
   "metadata": {},
   "outputs": [
    {
     "name": "stdout",
     "output_type": "stream",
     "text": [
      "Loading data for meter ElecMeterID(instance=4, building=1, dataset='REDD')      dataset='REDD'), ElecMeterID(instance=4, building=1, dataset='REDD')))     \n",
      "Done loading data all meters for this chunk.\n",
      "Loading data for meter ElecMeterID(instance=20, building=1, dataset='REDD')      dataset='REDD'), ElecMeterID(instance=20, building=1, dataset='REDD')))     \n",
      "Done loading data all meters for this chunk.\n",
      "\n",
      "Done loading data all meters for this chunk.\n"
     ]
    }
   ],
   "source": [
    "test_mains = test_elec.submeters().power_series_all_data()"
   ]
  },
  {
   "cell_type": "code",
   "execution_count": 53,
   "metadata": {},
   "outputs": [
    {
     "data": {
      "text/plain": [
       "pandas.core.series.Series"
      ]
     },
     "execution_count": 53,
     "metadata": {},
     "output_type": "execute_result"
    }
   ],
   "source": [
    "type(test_mains)"
   ]
  },
  {
   "cell_type": "code",
   "execution_count": 41,
   "metadata": {},
   "outputs": [],
   "source": [
    "metadata = {'building': 1,\n",
    "            'dataset': 'mydataset',\n",
    "            'instance': 1,\n",
    "            'appliances': {'mains': {'meters': ['active', 'power']}}}"
   ]
  },
  {
   "cell_type": "code",
   "execution_count": 42,
   "metadata": {},
   "outputs": [],
   "source": [
    "from nilmtk import ElecMeter"
   ]
  },
  {
   "cell_type": "code",
   "execution_count": 43,
   "metadata": {},
   "outputs": [
    {
     "name": "stdout",
     "output_type": "stream",
     "text": [
      "Unexpected exception formatting exception. Falling back to standard exception\n"
     ]
    },
    {
     "name": "stderr",
     "output_type": "stream",
     "text": [
      "Traceback (most recent call last):\n",
      "  File \"e:\\anaconda\\conda\\envs\\Nilm_01\\lib\\site-packages\\ipython-8.11.0-py3.8.egg\\IPython\\core\\interactiveshell.py\", line 3460, in run_code\n",
      "    exec(code_obj, self.user_global_ns, self.user_ns)\n",
      "  File \"C:\\Users\\12933\\AppData\\Local\\Temp\\ipykernel_58316\\129103711.py\", line 1, in <module>\n",
      "    elec_meter = ElecMeter(**metadata)\n",
      "TypeError: __init__() got an unexpected keyword argument 'building'\n",
      "\n",
      "During handling of the above exception, another exception occurred:\n",
      "\n",
      "Traceback (most recent call last):\n",
      "  File \"e:\\anaconda\\conda\\envs\\Nilm_01\\lib\\site-packages\\ipython-8.11.0-py3.8.egg\\IPython\\core\\interactiveshell.py\", line 2057, in showtraceback\n",
      "    stb = self.InteractiveTB.structured_traceback(\n",
      "  File \"e:\\anaconda\\conda\\envs\\Nilm_01\\lib\\site-packages\\ipython-8.11.0-py3.8.egg\\IPython\\core\\ultratb.py\", line 1288, in structured_traceback\n",
      "    return FormattedTB.structured_traceback(\n",
      "  File \"e:\\anaconda\\conda\\envs\\Nilm_01\\lib\\site-packages\\ipython-8.11.0-py3.8.egg\\IPython\\core\\ultratb.py\", line 1177, in structured_traceback\n",
      "    return VerboseTB.structured_traceback(\n",
      "  File \"e:\\anaconda\\conda\\envs\\Nilm_01\\lib\\site-packages\\ipython-8.11.0-py3.8.egg\\IPython\\core\\ultratb.py\", line 1030, in structured_traceback\n",
      "    formatted_exception = self.format_exception_as_a_whole(etype, evalue, etb, number_of_lines_of_context,\n",
      "  File \"e:\\anaconda\\conda\\envs\\Nilm_01\\lib\\site-packages\\ipython-8.11.0-py3.8.egg\\IPython\\core\\ultratb.py\", line 935, in format_exception_as_a_whole\n",
      "    self.get_records(etb, number_of_lines_of_context, tb_offset) if etb else []\n",
      "  File \"e:\\anaconda\\conda\\envs\\Nilm_01\\lib\\site-packages\\ipython-8.11.0-py3.8.egg\\IPython\\core\\ultratb.py\", line 987, in get_records\n",
      "    style = stack_data.style_with_executing_node(style, self._tb_highlight)\n",
      "  File \"e:\\anaconda\\conda\\envs\\Nilm_01\\lib\\site-packages\\stack_data-0.6.2-py3.8.egg\\stack_data\\core.py\", line 455, in style_with_executing_node\n",
      "    class NewStyle(style):\n",
      "  File \"e:\\anaconda\\conda\\envs\\Nilm_01\\lib\\site-packages\\pygments\\style.py\", line 91, in __new__\n",
      "    ndef[4] = colorformat(styledef[3:])\n",
      "  File \"e:\\anaconda\\conda\\envs\\Nilm_01\\lib\\site-packages\\pygments\\style.py\", line 58, in colorformat\n",
      "    assert False, \"wrong color format %r\" % text\n",
      "AssertionError: wrong color format 'ansiyellow'\n"
     ]
    }
   ],
   "source": [
    "elec_meter = ElecMeter(**metadata)"
   ]
  },
  {
   "cell_type": "code",
   "execution_count": 38,
   "metadata": {},
   "outputs": [
    {
     "data": {
      "text/plain": [
       "2011-04-30 00:00:00-04:00    1277.0\n",
       "2011-04-30 00:00:03-04:00    1279.0\n",
       "2011-04-30 00:00:06-04:00    1279.0\n",
       "2011-04-30 00:00:09-04:00    1274.0\n",
       "2011-04-30 00:00:12-04:00    1272.0\n",
       "                              ...  \n",
       "2011-05-24 15:56:21-04:00     240.0\n",
       "2011-05-24 15:56:24-04:00     240.0\n",
       "2011-05-24 15:56:27-04:00     243.0\n",
       "2011-05-24 15:56:30-04:00     242.0\n",
       "2011-05-24 15:56:33-04:00       NaN\n",
       "Freq: 3S, Name: (power, active), Length: 710332, dtype: float32"
      ]
     },
     "execution_count": 38,
     "metadata": {},
     "output_type": "execute_result"
    }
   ],
   "source": [
    "test_mains"
   ]
  },
  {
   "cell_type": "code",
   "execution_count": 66,
   "metadata": {},
   "outputs": [],
   "source": [
    "redd_data = DataSet('E:\\\\github\\\\Nilm\\\\redd_low.h5')"
   ]
  },
  {
   "cell_type": "code",
   "execution_count": 67,
   "metadata": {},
   "outputs": [],
   "source": [
    "redd_data.set_window(end=\"30-4-2011\") #Use data only until 4/30/2011\n",
    "train_elec = redd_data.buildings[1].elec"
   ]
  },
  {
   "cell_type": "code",
   "execution_count": 4,
   "metadata": {},
   "outputs": [
    {
     "data": {
      "text/plain": [
       "nilmtk.metergroup.MeterGroup"
      ]
     },
     "execution_count": 4,
     "metadata": {},
     "output_type": "execute_result"
    }
   ],
   "source": [
    "type(train_elec)"
   ]
  },
  {
   "cell_type": "code",
   "execution_count": 68,
   "metadata": {},
   "outputs": [],
   "source": [
    "train_mains = train_elec.mains().all_meters()[0] # The aggregated meter that provides the input\n",
    "train_meter = train_elec.submeters()['fridge'] # The microwave meter that is used as a training target"
   ]
  },
  {
   "cell_type": "code",
   "execution_count": 69,
   "metadata": {},
   "outputs": [
    {
     "data": {
      "text/plain": [
       "ElecMeter(instance=5, building=1, dataset='REDD', appliances=[Appliance(type='fridge', instance=1)])"
      ]
     },
     "execution_count": 69,
     "metadata": {},
     "output_type": "execute_result"
    }
   ],
   "source": [
    "train_meter"
   ]
  },
  {
   "cell_type": "code",
   "execution_count": 6,
   "metadata": {},
   "outputs": [
    {
     "data": {
      "text/plain": [
       "ElecMeter(instance=5, building=1, dataset='REDD', appliances=[Appliance(type='fridge', instance=1)])"
      ]
     },
     "execution_count": 6,
     "metadata": {},
     "output_type": "execute_result"
    }
   ],
   "source": [
    "train_meter"
   ]
  },
  {
   "cell_type": "code",
   "execution_count": 7,
   "metadata": {},
   "outputs": [
    {
     "name": "stdout",
     "output_type": "stream",
     "text": [
      "Model: \"sequential\"\n",
      "_________________________________________________________________\n",
      "Layer (type)                 Output Shape              Param #   \n",
      "=================================================================\n",
      "conv1d (Conv1D)              (None, 1, 16)             80        \n",
      "_________________________________________________________________\n",
      "bidirectional (Bidirectional (None, 1, 256)            148480    \n",
      "_________________________________________________________________\n",
      "bidirectional_1 (Bidirection (None, 512)               1050624   \n",
      "_________________________________________________________________\n",
      "dense (Dense)                (None, 128)               65664     \n",
      "_________________________________________________________________\n",
      "dense_1 (Dense)              (None, 1)                 129       \n",
      "=================================================================\n",
      "Total params: 1,264,977\n",
      "Trainable params: 1,264,977\n",
      "Non-trainable params: 0\n",
      "_________________________________________________________________\n"
     ]
    }
   ],
   "source": [
    "from RNN import RNNDisaggregator\n",
    "disaggregator = RNNDisaggregator()"
   ]
  },
  {
   "cell_type": "code",
   "execution_count": 8,
   "metadata": {},
   "outputs": [],
   "source": [
    "physical_devices = tf.config.list_physical_devices('GPU')\n",
    "if len(physical_devices) > 0:\n",
    "    tf.config.set_visible_devices(physical_devices[0], 'GPU')"
   ]
  },
  {
   "cell_type": "code",
   "execution_count": 9,
   "metadata": {},
   "outputs": [
    {
     "name": "stdout",
     "output_type": "stream",
     "text": [
      "834/834 [==============================] - 29s 21ms/step - loss: 3.5141e-04\n",
      "834/834 [==============================] - 18s 22ms/step - loss: 1.6748e-04\n",
      "834/834 [==============================] - 18s 21ms/step - loss: 2.0413e-04\n",
      "834/834 [==============================] - 18s 22ms/step - loss: 1.5165e-04\n",
      "260/260 [==============================] - 6s 21ms/step - loss: 1.1815e-04\n"
     ]
    }
   ],
   "source": [
    "disaggregator.train(train_mains, train_meter, epochs=1, sample_period=3)\n",
    "disaggregator.export_model(\"A.h5\")"
   ]
  },
  {
   "cell_type": "code",
   "execution_count": 10,
   "metadata": {},
   "outputs": [],
   "source": [
    "test = DataSet('E:\\\\github\\\\Nilm\\\\redd_low.h5')\n",
    "test.set_window(start=\"30-4-2011\")\n",
    "test_elec = test.buildings[1].elec\n",
    "test_mains = test_elec.mains().all_meters()[0]"
   ]
  },
  {
   "cell_type": "code",
   "execution_count": 11,
   "metadata": {},
   "outputs": [],
   "source": [
    "disag_filename = 'xxxx.h5' # The filename of the resulting datastore\n",
    "from nilmtk.datastore import HDFDataStore\n",
    "output = HDFDataStore(disag_filename, 'w')"
   ]
  },
  {
   "cell_type": "code",
   "execution_count": 13,
   "metadata": {},
   "outputs": [
    {
     "name": "stdout",
     "output_type": "stream",
     "text": [
      "Loading data for meter ElecMeterID(instance=1, building=1, dataset='REDD')     "
     ]
    },
    {
     "name": "stderr",
     "output_type": "stream",
     "text": [
      "e:\\github\\nilm\\nilmtk\\nilmtk\\metergroup.py:939: UserWarning: As a quick implementation we only get Good Sections from the first meter in the meter group.  We should really return the intersection of the good sections for all meters.  This will be fixed...\n",
      "  warnings.warn(\"As a quick implementation we only get Good Sections from\"\n"
     ]
    },
    {
     "name": "stdout",
     "output_type": "stream",
     "text": [
      "Loading data for meter ElecMeterID(instance=2, building=1, dataset='REDD')     \n",
      "Done loading data all meters for this chunk.\n",
      "New sensible chunk: 489198\n",
      "<class 'pandas.core.series.Series'>\n",
      "Unexpected exception formatting exception. Falling back to standard exception\n"
     ]
    },
    {
     "name": "stderr",
     "output_type": "stream",
     "text": [
      "Traceback (most recent call last):\n",
      "  File \"e:\\anaconda\\conda\\envs\\Nilm_01\\lib\\site-packages\\ipython-8.11.0-py3.8.egg\\IPython\\core\\interactiveshell.py\", line 3460, in run_code\n",
      "    exec(code_obj, self.user_global_ns, self.user_ns)\n",
      "  File \"C:\\Users\\12933\\AppData\\Local\\Temp\\ipykernel_14068\\3746914780.py\", line 1, in <module>\n",
      "    disaggregator.disaggregate(test_elec,test_elec['fridge'],output, train_meter, sample_period=3)\n",
      "  File \"e:\\github\\NILM\\RNN\\RNN.py\", line 151, in disaggregate\n",
      "    self._save_metadata_for_disaggregation(\n",
      "  File \"e:\\github\\nilm\\nilmtk\\nilmtk\\legacy\\disaggregate\\disaggregator.py\", line 145, in _save_metadata_for_disaggregation\n",
      "    'physical_quantity': measurement[0],\n",
      "TypeError: 'NoneType' object is not subscriptable\n",
      "\n",
      "During handling of the above exception, another exception occurred:\n",
      "\n",
      "Traceback (most recent call last):\n",
      "  File \"e:\\anaconda\\conda\\envs\\Nilm_01\\lib\\site-packages\\ipython-8.11.0-py3.8.egg\\IPython\\core\\interactiveshell.py\", line 2057, in showtraceback\n",
      "    stb = self.InteractiveTB.structured_traceback(\n",
      "  File \"e:\\anaconda\\conda\\envs\\Nilm_01\\lib\\site-packages\\ipython-8.11.0-py3.8.egg\\IPython\\core\\ultratb.py\", line 1288, in structured_traceback\n",
      "    return FormattedTB.structured_traceback(\n",
      "  File \"e:\\anaconda\\conda\\envs\\Nilm_01\\lib\\site-packages\\ipython-8.11.0-py3.8.egg\\IPython\\core\\ultratb.py\", line 1177, in structured_traceback\n",
      "    return VerboseTB.structured_traceback(\n",
      "  File \"e:\\anaconda\\conda\\envs\\Nilm_01\\lib\\site-packages\\ipython-8.11.0-py3.8.egg\\IPython\\core\\ultratb.py\", line 1030, in structured_traceback\n",
      "    formatted_exception = self.format_exception_as_a_whole(etype, evalue, etb, number_of_lines_of_context,\n",
      "  File \"e:\\anaconda\\conda\\envs\\Nilm_01\\lib\\site-packages\\ipython-8.11.0-py3.8.egg\\IPython\\core\\ultratb.py\", line 935, in format_exception_as_a_whole\n",
      "    self.get_records(etb, number_of_lines_of_context, tb_offset) if etb else []\n",
      "  File \"e:\\anaconda\\conda\\envs\\Nilm_01\\lib\\site-packages\\ipython-8.11.0-py3.8.egg\\IPython\\core\\ultratb.py\", line 987, in get_records\n",
      "    style = stack_data.style_with_executing_node(style, self._tb_highlight)\n",
      "  File \"e:\\anaconda\\conda\\envs\\Nilm_01\\lib\\site-packages\\stack_data-0.6.2-py3.8.egg\\stack_data\\core.py\", line 455, in style_with_executing_node\n",
      "    class NewStyle(style):\n",
      "  File \"e:\\anaconda\\conda\\envs\\Nilm_01\\lib\\site-packages\\pygments\\style.py\", line 91, in __new__\n",
      "    ndef[4] = colorformat(styledef[3:])\n",
      "  File \"e:\\anaconda\\conda\\envs\\Nilm_01\\lib\\site-packages\\pygments\\style.py\", line 58, in colorformat\n",
      "    assert False, \"wrong color format %r\" % text\n",
      "AssertionError: wrong color format 'ansiyellow'\n"
     ]
    }
   ],
   "source": [
    "disaggregator.disaggregate(test_elec,test_elec['fridge'],output, train_meter, sample_period=3)\n"
   ]
  },
  {
   "cell_type": "code",
   "execution_count": 16,
   "metadata": {},
   "outputs": [
    {
     "name": "stdout",
     "output_type": "stream",
     "text": [
      "Unexpected exception formatting exception. Falling back to standard exception\n"
     ]
    },
    {
     "name": "stderr",
     "output_type": "stream",
     "text": [
      "Traceback (most recent call last):\n",
      "  File \"e:\\anaconda\\conda\\envs\\Nilm_01\\lib\\site-packages\\ipython-8.11.0-py3.8.egg\\IPython\\core\\interactiveshell.py\", line 3460, in run_code\n",
      "    exec(code_obj, self.user_global_ns, self.user_ns)\n",
      "  File \"C:\\Users\\12933\\AppData\\Local\\Temp\\ipykernel_15004\\488623395.py\", line 1, in <module>\n",
      "    result = DataSet('E:\\\\github\\\\Nilm\\\\RNN\\\\xx.h5')\n",
      "  File \"e:\\github\\nilm\\nilmtk\\nilmtk\\dataset.py\", line 45, in __init__\n",
      "    self.import_metadata(get_datastore(filename, format))\n",
      "  File \"e:\\github\\nilm\\nilmtk\\nilmtk\\dataset.py\", line 54, in import_metadata\n",
      "    self.metadata = store.load_metadata()\n",
      "  File \"e:\\github\\nilm\\nilmtk\\nilmtk\\docinherit.py\", line 53, in f\n",
      "    return self.mthd(obj, *args, **kwargs)\n",
      "  File \"e:\\github\\nilm\\nilmtk\\nilmtk\\datastore\\hdfdatastore.py\", line 186, in load_metadata\n",
      "    metadata = deepcopy(node._v_attrs.metadata)\n",
      "  File \"e:\\anaconda\\conda\\envs\\Nilm_01\\lib\\site-packages\\tables-3.8.0-py3.8-win-amd64.egg\\tables\\attributeset.py\", line 283, in __getattr__\n",
      "    raise AttributeError(f\"Attribute {name!r} does not exist \"\n",
      "AttributeError: Attribute 'metadata' does not exist in node: '/'\n",
      "\n",
      "During handling of the above exception, another exception occurred:\n",
      "\n",
      "Traceback (most recent call last):\n",
      "  File \"e:\\anaconda\\conda\\envs\\Nilm_01\\lib\\site-packages\\ipython-8.11.0-py3.8.egg\\IPython\\core\\interactiveshell.py\", line 2057, in showtraceback\n",
      "    stb = self.InteractiveTB.structured_traceback(\n",
      "  File \"e:\\anaconda\\conda\\envs\\Nilm_01\\lib\\site-packages\\ipython-8.11.0-py3.8.egg\\IPython\\core\\ultratb.py\", line 1288, in structured_traceback\n",
      "    return FormattedTB.structured_traceback(\n",
      "  File \"e:\\anaconda\\conda\\envs\\Nilm_01\\lib\\site-packages\\ipython-8.11.0-py3.8.egg\\IPython\\core\\ultratb.py\", line 1177, in structured_traceback\n",
      "    return VerboseTB.structured_traceback(\n",
      "  File \"e:\\anaconda\\conda\\envs\\Nilm_01\\lib\\site-packages\\ipython-8.11.0-py3.8.egg\\IPython\\core\\ultratb.py\", line 1030, in structured_traceback\n",
      "    formatted_exception = self.format_exception_as_a_whole(etype, evalue, etb, number_of_lines_of_context,\n",
      "  File \"e:\\anaconda\\conda\\envs\\Nilm_01\\lib\\site-packages\\ipython-8.11.0-py3.8.egg\\IPython\\core\\ultratb.py\", line 935, in format_exception_as_a_whole\n",
      "    self.get_records(etb, number_of_lines_of_context, tb_offset) if etb else []\n",
      "  File \"e:\\anaconda\\conda\\envs\\Nilm_01\\lib\\site-packages\\ipython-8.11.0-py3.8.egg\\IPython\\core\\ultratb.py\", line 987, in get_records\n",
      "    style = stack_data.style_with_executing_node(style, self._tb_highlight)\n",
      "  File \"e:\\anaconda\\conda\\envs\\Nilm_01\\lib\\site-packages\\stack_data-0.6.2-py3.8.egg\\stack_data\\core.py\", line 455, in style_with_executing_node\n",
      "    class NewStyle(style):\n",
      "  File \"e:\\anaconda\\conda\\envs\\Nilm_01\\lib\\site-packages\\pygments\\style.py\", line 91, in __new__\n",
      "    ndef[4] = colorformat(styledef[3:])\n",
      "  File \"e:\\anaconda\\conda\\envs\\Nilm_01\\lib\\site-packages\\pygments\\style.py\", line 58, in colorformat\n",
      "    assert False, \"wrong color format %r\" % text\n",
      "AssertionError: wrong color format 'ansiyellow'\n"
     ]
    }
   ],
   "source": [
    "result = DataSet('E:\\\\github\\\\Nilm\\\\RNN\\\\xxxx.h5')\n",
    "res_elec = result.buildings[1].elec\n",
    "predicted = res_elec['fridge']\n",
    "ground_truth = test_elec['fridge']\n",
    "\n",
    "import matplotlib.pyplot as plt\n",
    "predicted.plot()\n",
    "ground_truth.plot()\n",
    "plt.show()"
   ]
  },
  {
   "cell_type": "code",
   "execution_count": 15,
   "metadata": {},
   "outputs": [
    {
     "data": {
      "image/png": "[encoded data removed]",
      "text/plain": [
       "<Figure size 640x480 with 1 Axes>"
      ]
     },
     "metadata": {},
     "output_type": "display_data"
    }
   ],
   "source": [
    "predicted.plot()\n",
    "plt.show()"
   ]
  },
  {
   "cell_type": "code",
   "execution_count": 12,
   "metadata": {},
   "outputs": [],
   "source": [
    "from nilmtk.electric import align_two_meters\n",
    "import numpy as np\n",
    "\n",
    "def tp_tn_fp_fn(states_pred, states_ground):\n",
    "    tp = np.sum(np.logical_and(states_pred == 1, states_ground == 1))\n",
    "    fp = np.sum(np.logical_and(states_pred == 1, states_ground == 0))\n",
    "    fn = np.sum(np.logical_and(states_pred == 0, states_ground == 1))\n",
    "    tn = np.sum(np.logical_and(states_pred == 0, states_ground == 0))\n",
    "    return tp, tn, fp, fn\n",
    "\n",
    "def recall_precision_accuracy_f1(pred, ground):\n",
    "    aligned_meters = align_two_meters(pred, ground)\n",
    "    threshold = ground.on_power_threshold()\n",
    "    chunk_results = []\n",
    "    sum_samples = 0.0\n",
    "    for chunk in aligned_meters:\n",
    "        sum_samples += len(chunk)\n",
    "        pr = np.array([0 if (p)<threshold else 1 for p in chunk.iloc[:,0]])\n",
    "        gr = np.array([0 if p<threshold else 1 for p in chunk.iloc[:,1]])\n",
    "\n",
    "        tp, tn, fp, fn = tp_tn_fp_fn(pr,gr)\n",
    "        p = sum(pr)\n",
    "        n = len(pr) - p\n",
    "\n",
    "        chunk_results.append([tp,tn,fp,fn,p,n])\n",
    "\n",
    "    if sum_samples == 0:\n",
    "        return None\n",
    "    else:\n",
    "        [tp,tn,fp,fn,p,n] = np.sum(chunk_results, axis=0)\n",
    "\n",
    "        res_recall = recall(tp,fn)\n",
    "        res_precision = precision(tp,fp)\n",
    "        res_f1 = f1(res_precision,res_recall)\n",
    "        res_accuracy = accuracy(tp,tn,p,n)\n",
    "\n",
    "        return (res_recall,res_precision,res_accuracy,res_f1)\n",
    "\n",
    "def relative_error_total_energy(pred, ground):\n",
    "    aligned_meters = align_two_meters(pred, ground)\n",
    "    chunk_results = []\n",
    "    sum_samples = 0.0\n",
    "    for chunk in aligned_meters:\n",
    "        chunk.fillna(0, inplace=True)\n",
    "        sum_samples += len(chunk)\n",
    "        E_pred = sum(chunk.iloc[:,0])\n",
    "        E_ground = sum(chunk.iloc[:,1])\n",
    "\n",
    "        chunk_results.append([\n",
    "                            E_pred,\n",
    "                            E_ground\n",
    "                            ])\n",
    "    if sum_samples == 0:\n",
    "        return None\n",
    "    else:\n",
    "        [E_pred, E_ground] = np.sum(chunk_results,axis=0)\n",
    "        return abs(E_pred - E_ground) / float(max(E_pred,E_ground))\n",
    "\n",
    "def mean_absolute_error(pred, ground):\n",
    "    aligned_meters = align_two_meters(pred, ground)\n",
    "    total_sum = 0.0\n",
    "    sum_samples = 0.0\n",
    "    for chunk in aligned_meters:\n",
    "        chunk.fillna(0, inplace=True)\n",
    "        sum_samples += len(chunk)\n",
    "        total_sum += sum(abs((chunk.iloc[:,0]) - chunk.iloc[:,1]))\n",
    "    if sum_samples == 0:\n",
    "        return None\n",
    "    else:\n",
    "        return total_sum / sum_samples\n",
    "\n",
    "\n",
    "def recall(tp,fn):\n",
    "    return tp/float(tp+fn)\n",
    "\n",
    "def precision(tp,fp):\n",
    "    return tp/float(tp+fp)\n",
    "\n",
    "def f1(prec,rec):\n",
    "    return 2 * (prec*rec) / float(prec+rec)\n",
    "\n",
    "def accuracy(tp, tn, p, n):\n",
    "    return (tp + tn) / float(p + n)\n"
   ]
  },
  {
   "cell_type": "code",
   "execution_count": 16,
   "metadata": {},
   "outputs": [
    {
     "name": "stdout",
     "output_type": "stream",
     "text": [
      "============ Recall: 0.7668438360354849\n",
      "============ Precision: 0.5850545539413035\n",
      "============ Accuracy: 0.6731762823219103\n",
      "============ F1 Score: 0.6637266258480887\n",
      "============ Relative error in total energy: 0.2583151712534099\n",
      "============ Mean absolute error(in Watts): 22.976693577836617\n"
     ]
    }
   ],
   "source": [
    "import metrics\n",
    "rpaf = metrics.recall_precision_accuracy_f1(predicted, ground_truth)\n",
    "print(\"============ Recall: {}\".format(rpaf[0]))\n",
    "print(\"============ Precision: {}\".format(rpaf[1]))\n",
    "print(\"============ Accuracy: {}\".format(rpaf[2]))\n",
    "print(\"============ F1 Score: {}\".format(rpaf[3]))\n",
    "\n",
    "print(\"============ Relative error in total energy: {}\".format(metrics.relative_error_total_energy(predicted, ground_truth)))\n",
    "print(\"============ Mean absolute error(in Watts): {}\".format(metrics.mean_absolute_error(predicted, ground_truth)))"
   ]
  }
 ],
 "metadata": {
  "kernelspec": {
   "display_name": "Nilm_01",
   "language": "python",
   "name": "python3"
  },
  "language_info": {
   "codemirror_mode": {
    "name": "ipython",
    "version": 3
   },
   "file_extension": ".py",
   "mimetype": "text/x-python",
   "name": "python",
   "nbconvert_exporter": "python",
   "pygments_lexer": "ipython3",
   "version": "3.8.0"
  },
  "orig_nbformat": 4,
  "vscode": {
   "interpreter": {
    "hash": "32abf3fe51ef4301efc1d485205e4c9ed151fbdd136ca79b8538e35089d2a24b"
   }
  }
 },
 "nbformat": 4,
 "nbformat_minor": 2
}

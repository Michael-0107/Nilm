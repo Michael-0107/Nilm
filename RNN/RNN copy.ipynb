{
 "cells": [
  {
   "cell_type": "code",
   "execution_count": 1,
   "metadata": {},
   "outputs": [],
   "source": [
    "import pandas as pd\n",
    "import nilmtk\n",
    "import matplotlib.pyplot as plt\n",
    "import random\n",
    "import sys\n",
    "from matplotlib import rcParams\n",
    "import matplotlib.pyplot as plt\n",
    "import numpy as np\n",
    "import h5py\n",
    "from nilmtk import DataSet\n",
    "from nilmtk.utils import print_dict\n",
    "from nilmtk.datastore import HDFDataStore\n",
    "from matplotlib import rcParams\n",
    "from nilmtk.utils import find_nearest\n",
    "from nilmtk.feature_detectors import cluster\n",
    "from nilmtk.legacy.disaggregate import Disaggregator\n",
    "from nilmtk.datastore import HDFDataStore\n",
    "import tensorflow as tf\n",
    "from tensorflow import keras\n",
    "from keras.utils import plot_model"
   ]
  },
  {
   "cell_type": "code",
   "execution_count": 2,
   "metadata": {},
   "outputs": [],
   "source": [
    "redd_data = DataSet('E:\\\\github\\\\Nilm\\\\redd_low.h5')"
   ]
  },
  {
   "cell_type": "code",
   "execution_count": 3,
   "metadata": {},
   "outputs": [],
   "source": [
    "redd_data.set_window(end=\"30-4-2011\") \n",
    "train_elec = redd_data.buildings[1].elec"
   ]
  },
  {
   "cell_type": "code",
   "execution_count": 4,
   "metadata": {},
   "outputs": [
    {
     "data": {
      "text/plain": [
       "MeterGroup(meters=\n",
       "  ElecMeter(instance=1, building=1, dataset='REDD', site_meter, appliances=[])\n",
       "  ElecMeter(instance=2, building=1, dataset='REDD', site_meter, appliances=[])\n",
       "  ElecMeter(instance=5, building=1, dataset='REDD', appliances=[Appliance(type='fridge', instance=1)])\n",
       "  ElecMeter(instance=6, building=1, dataset='REDD', appliances=[Appliance(type='dish washer', instance=1)])\n",
       "  ElecMeter(instance=7, building=1, dataset='REDD', appliances=[Appliance(type='sockets', instance=1)])\n",
       "  ElecMeter(instance=8, building=1, dataset='REDD', appliances=[Appliance(type='sockets', instance=2)])\n",
       "  ElecMeter(instance=9, building=1, dataset='REDD', appliances=[Appliance(type='light', instance=1)])\n",
       "  ElecMeter(instance=11, building=1, dataset='REDD', appliances=[Appliance(type='microwave', instance=1)])\n",
       "  ElecMeter(instance=12, building=1, dataset='REDD', appliances=[Appliance(type='unknown', instance=1)])\n",
       "  ElecMeter(instance=13, building=1, dataset='REDD', appliances=[Appliance(type='electric space heater', instance=1)])\n",
       "  ElecMeter(instance=14, building=1, dataset='REDD', appliances=[Appliance(type='electric stove', instance=1)])\n",
       "  ElecMeter(instance=15, building=1, dataset='REDD', appliances=[Appliance(type='sockets', instance=3)])\n",
       "  ElecMeter(instance=16, building=1, dataset='REDD', appliances=[Appliance(type='sockets', instance=4)])\n",
       "  ElecMeter(instance=17, building=1, dataset='REDD', appliances=[Appliance(type='light', instance=2)])\n",
       "  ElecMeter(instance=18, building=1, dataset='REDD', appliances=[Appliance(type='light', instance=3)])\n",
       "  ElecMeter(instance=19, building=1, dataset='REDD', appliances=[Appliance(type='unknown', instance=2)])\n",
       "  MeterGroup(meters=\n",
       "    ElecMeter(instance=3, building=1, dataset='REDD', appliances=[Appliance(type='electric oven', instance=1)])\n",
       "    ElecMeter(instance=4, building=1, dataset='REDD', appliances=[Appliance(type='electric oven', instance=1)])\n",
       "  )\n",
       "  MeterGroup(meters=\n",
       "    ElecMeter(instance=10, building=1, dataset='REDD', appliances=[Appliance(type='washer dryer', instance=1)])\n",
       "    ElecMeter(instance=20, building=1, dataset='REDD', appliances=[Appliance(type='washer dryer', instance=1)])\n",
       "  )\n",
       ")"
      ]
     },
     "execution_count": 4,
     "metadata": {},
     "output_type": "execute_result"
    }
   ],
   "source": [
    "train_elec"
   ]
  },
  {
   "cell_type": "code",
   "execution_count": 5,
   "metadata": {},
   "outputs": [],
   "source": [
    "train_mains = train_elec.mains().all_meters()[0] \n",
    "train_meter = train_elec.submeters()['fridge'] "
   ]
  },
  {
   "cell_type": "code",
   "execution_count": 18,
   "metadata": {},
   "outputs": [
    {
     "name": "stdout",
     "output_type": "stream",
     "text": [
      "Model: \"sequential\"\n",
      "_________________________________________________________________\n",
      "Layer (type)                 Output Shape              Param #   \n",
      "=================================================================\n",
      "conv1d (Conv1D)              (None, 1, 16)             80        \n",
      "_________________________________________________________________\n",
      "bidirectional (Bidirectional (None, 1, 256)            148480    \n",
      "_________________________________________________________________\n",
      "bidirectional_1 (Bidirection (None, 512)               1050624   \n",
      "_________________________________________________________________\n",
      "dense (Dense)                (None, 128)               65664     \n",
      "_________________________________________________________________\n",
      "dense_1 (Dense)              (None, 1)                 129       \n",
      "=================================================================\n",
      "Total params: 1,264,977\n",
      "Trainable params: 1,264,977\n",
      "Non-trainable params: 0\n",
      "_________________________________________________________________\n"
     ]
    }
   ],
   "source": [
    "from RNN import RNNDisaggregator\n",
    "disaggregator = RNNDisaggregator()"
   ]
  },
  {
   "cell_type": "code",
   "execution_count": 19,
   "metadata": {},
   "outputs": [],
   "source": [
    "physical_devices = tf.config.list_physical_devices('GPU')\n",
    "if len(physical_devices) > 0:\n",
    "    tf.config.set_visible_devices(physical_devices[0], 'GPU')"
   ]
  },
  {
   "cell_type": "code",
   "execution_count": 21,
   "metadata": {},
   "outputs": [
    {
     "name": "stdout",
     "output_type": "stream",
     "text": [
      "Epoch 1/5\n",
      "16718/16718 [==============================] - 355s 21ms/step - loss: 1.5967e-04\n",
      "Epoch 2/5\n",
      "16718/16718 [==============================] - 381s 23ms/step - loss: 1.3017e-04\n",
      "Epoch 3/5\n",
      "16718/16718 [==============================] - 351s 21ms/step - loss: 1.2405e-04\n",
      "Epoch 4/5\n",
      "16718/16718 [==============================] - 329s 20ms/step - loss: 1.2213e-04\n",
      "Epoch 5/5\n",
      "16718/16718 [==============================] - 390s 23ms/step - loss: 1.2114e-04\n"
     ]
    }
   ],
   "source": [
    "disaggregator.train(train_mains, train_meter, epochs=5, sample_period=1)\n",
    "disaggregator.export_model(\"model-redd5_02.h5\")"
   ]
  },
  {
   "cell_type": "code",
   "execution_count": 22,
   "metadata": {},
   "outputs": [],
   "source": [
    "test = DataSet('E:\\\\github\\\\Nilm\\\\redd_low.h5')\n",
    "test.set_window(start=\"30-4-2011\")\n",
    "test_elec = test.buildings[1].elec\n",
    "test_mains = test_elec.mains().all_meters()[0]"
   ]
  },
  {
   "cell_type": "code",
   "execution_count": null,
   "metadata": {},
   "outputs": [],
   "source": [
    "disag_filename = 'disag-out04.h5' # The filename of the resulting datastore\n",
    "from nilmtk.datastore import HDFDataStore\n",
    "output = HDFDataStore(disag_filename, 'w')"
   ]
  },
  {
   "cell_type": "code",
   "execution_count": 24,
   "metadata": {},
   "outputs": [
    {
     "name": "stdout",
     "output_type": "stream",
     "text": [
      "New sensible chunk: 121482\n",
      "New sensible chunk: 112661\n",
      "New sensible chunk: 87770\n",
      "New sensible chunk: 54084\n",
      "New sensible chunk: 2660\n",
      "New sensible chunk: 33513\n",
      "New sensible chunk: 138535\n",
      "New sensible chunk: 32514\n",
      "New sensible chunk: 27255\n",
      "New sensible chunk: 34833\n",
      "New sensible chunk: 100831\n",
      "New sensible chunk: 90\n"
     ]
    }
   ],
   "source": [
    "disaggregator.disaggregate(test_mains, output, train_meter, sample_period=1)"
   ]
  },
  {
   "cell_type": "code",
   "execution_count": 35,
   "metadata": {},
   "outputs": [
    {
     "data": {
      "image/png": "[encoded data removed]",
      "text/plain": [
       "<Figure size 640x480 with 1 Axes>"
      ]
     },
     "metadata": {},
     "output_type": "display_data"
    }
   ],
   "source": [
    "result = DataSet('E:\\\\github\\\\Nilm\\\\RNN\\\\disag-out04.h5')\n",
    "res_elec = result.buildings[1].elec\n",
    "predicted = res_elec['fridge']\n",
    "ground_truth = test_elec['fridge']\n",
    "\n",
    "import matplotlib.pyplot as plt\n",
    "predicted.plot()\n",
    "# ground_truth.plot()\n",
    "plt.show()"
   ]
  },
  {
   "cell_type": "code",
   "execution_count": 26,
   "metadata": {},
   "outputs": [],
   "source": [
    "from nilmtk.electric import align_two_meters\n",
    "import numpy as np\n",
    "\n",
    "def tp_tn_fp_fn(states_pred, states_ground):\n",
    "    tp = np.sum(np.logical_and(states_pred == 1, states_ground == 1))\n",
    "    fp = np.sum(np.logical_and(states_pred == 1, states_ground == 0))\n",
    "    fn = np.sum(np.logical_and(states_pred == 0, states_ground == 1))\n",
    "    tn = np.sum(np.logical_and(states_pred == 0, states_ground == 0))\n",
    "    return tp, tn, fp, fn\n",
    "\n",
    "def recall_precision_accuracy_f1(pred, ground):\n",
    "    aligned_meters = align_two_meters(pred, ground)\n",
    "    threshold = ground.on_power_threshold()\n",
    "    chunk_results = []\n",
    "    sum_samples = 0.0\n",
    "    for chunk in aligned_meters:\n",
    "        sum_samples += len(chunk)\n",
    "        pr = np.array([0 if (p)<threshold else 1 for p in chunk.iloc[:,0]])\n",
    "        gr = np.array([0 if p<threshold else 1 for p in chunk.iloc[:,1]])\n",
    "\n",
    "        tp, tn, fp, fn = tp_tn_fp_fn(pr,gr)\n",
    "        p = sum(pr)\n",
    "        n = len(pr) - p\n",
    "\n",
    "        chunk_results.append([tp,tn,fp,fn,p,n])\n",
    "\n",
    "    if sum_samples == 0:\n",
    "        return None\n",
    "    else:\n",
    "        [tp,tn,fp,fn,p,n] = np.sum(chunk_results, axis=0)\n",
    "\n",
    "        res_recall = recall(tp,fn)\n",
    "        res_precision = precision(tp,fp)\n",
    "        res_f1 = f1(res_precision,res_recall)\n",
    "        res_accuracy = accuracy(tp,tn,p,n)\n",
    "\n",
    "        return (res_recall,res_precision,res_accuracy,res_f1)\n",
    "\n",
    "def relative_error_total_energy(pred, ground):\n",
    "    aligned_meters = align_two_meters(pred, ground)\n",
    "    chunk_results = []\n",
    "    sum_samples = 0.0\n",
    "    for chunk in aligned_meters:\n",
    "        chunk.fillna(0, inplace=True)\n",
    "        sum_samples += len(chunk)\n",
    "        E_pred = sum(chunk.iloc[:,0])\n",
    "        E_ground = sum(chunk.iloc[:,1])\n",
    "\n",
    "        chunk_results.append([\n",
    "                            E_pred,\n",
    "                            E_ground\n",
    "                            ])\n",
    "    if sum_samples == 0:\n",
    "        return None\n",
    "    else:\n",
    "        [E_pred, E_ground] = np.sum(chunk_results,axis=0)\n",
    "        return abs(E_pred - E_ground) / float(max(E_pred,E_ground))\n",
    "\n",
    "def mean_absolute_error(pred, ground):\n",
    "    aligned_meters = align_two_meters(pred, ground)\n",
    "    total_sum = 0.0\n",
    "    sum_samples = 0.0\n",
    "    for chunk in aligned_meters:\n",
    "        chunk.fillna(0, inplace=True)\n",
    "        sum_samples += len(chunk)\n",
    "        total_sum += sum(abs((chunk.iloc[:,0]) - chunk.iloc[:,1]))\n",
    "    if sum_samples == 0:\n",
    "        return None\n",
    "    else:\n",
    "        return total_sum / sum_samples\n",
    "\n",
    "\n",
    "def recall(tp,fn):\n",
    "    return tp/float(tp+fn)\n",
    "\n",
    "def precision(tp,fp):\n",
    "    return tp/float(tp+fp)\n",
    "\n",
    "def f1(prec,rec):\n",
    "    return 2 * (prec*rec) / float(prec+rec)\n",
    "\n",
    "def accuracy(tp, tn, p, n):\n",
    "    return (tp + tn) / float(p + n)\n"
   ]
  },
  {
   "cell_type": "code",
   "execution_count": 29,
   "metadata": {},
   "outputs": [
    {
     "name": "stdout",
     "output_type": "stream",
     "text": [
      "============ Recall: 0.34596004052415674\n",
      "============ Precision: 0.9686894005273462\n",
      "============ Accuracy: 0.46324326569885166\n",
      "============ F1 Score: 0.509836027456437\n",
      "============ Relative error in total energy: 0.7293706857747766\n",
      "============ Mean absolute error(in Watts): 42.70836042547078\n"
     ]
    }
   ],
   "source": [
    "import metrics\n",
    "rpaf = metrics.recall_precision_accuracy_f1(predicted, ground_truth)\n",
    "print(\"============ Recall: {}\".format(rpaf[0]))\n",
    "print(\"============ Precision: {}\".format(rpaf[1]))\n",
    "print(\"============ Accuracy: {}\".format(rpaf[2]))\n",
    "print(\"============ F1 Score: {}\".format(rpaf[3]))\n",
    "\n",
    "print(\"============ Relative error in total energy: {}\".format(metrics.relative_error_total_energy(predicted, ground_truth)))\n",
    "print(\"============ Mean absolute error(in Watts): {}\".format(metrics.mean_absolute_error(predicted, ground_truth)))"
   ]
  }
 ],
 "metadata": {
  "kernelspec": {
   "display_name": "Nilm_01",
   "language": "python",
   "name": "python3"
  },
  "language_info": {
   "codemirror_mode": {
    "name": "ipython",
    "version": 3
   },
   "file_extension": ".py",
   "mimetype": "text/x-python",
   "name": "python",
   "nbconvert_exporter": "python",
   "pygments_lexer": "ipython3",
   "version": "3.8.0"
  },
  "orig_nbformat": 4,
  "vscode": {
   "interpreter": {
    "hash": "32abf3fe51ef4301efc1d485205e4c9ed151fbdd136ca79b8538e35089d2a24b"
   }
  }
 },
 "nbformat": 4,
 "nbformat_minor": 2
}
